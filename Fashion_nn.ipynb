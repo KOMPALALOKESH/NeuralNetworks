{
  "nbformat": 4,
  "nbformat_minor": 0,
  "metadata": {
    "colab": {
      "provenance": [],
      "gpuType": "T4",
      "toc_visible": true,
      "authorship_tag": "ABX9TyNN+IiRHAzP6bVUhchlMfhY",
      "include_colab_link": true
    },
    "kernelspec": {
      "name": "python3",
      "display_name": "Python 3"
    },
    "language_info": {
      "name": "python"
    },
    "accelerator": "GPU"
  },
  "cells": [
    {
      "cell_type": "markdown",
      "metadata": {
        "id": "view-in-github",
        "colab_type": "text"
      },
      "source": [
        "<a href=\"https://colab.research.google.com/github/KOMPALALOKESH/NeuralNetworks/blob/main/Fashion_nn.ipynb\" target=\"_parent\"><img src=\"https://colab.research.google.com/assets/colab-badge.svg\" alt=\"Open In Colab\"/></a>"
      ]
    },
    {
      "cell_type": "markdown",
      "source": [
        "### Importing lib"
      ],
      "metadata": {
        "id": "h_pYX3z_mNgc"
      }
    },
    {
      "cell_type": "code",
      "execution_count": 1,
      "metadata": {
        "id": "U3-zgzxnB0EK"
      },
      "outputs": [],
      "source": [
        "import tensorflow as tf\n",
        "import matplotlib.pyplot as plt\n",
        "import pandas as pd\n",
        "import numpy as np\n",
        "from sklearn.metrics import accuracy_score"
      ]
    },
    {
      "cell_type": "markdown",
      "source": [
        "### importing data"
      ],
      "metadata": {
        "id": "RxsFT5CCmRnX"
      }
    },
    {
      "cell_type": "code",
      "source": [
        "fashion_mnist = tf.keras.datasets.fashion_mnist.load_data()"
      ],
      "metadata": {
        "id": "1x3PSNumB-F0",
        "colab": {
          "base_uri": "https://localhost:8080/"
        },
        "outputId": "fe531834-e309-4cf3-9761-0c48010ea43a"
      },
      "execution_count": 2,
      "outputs": [
        {
          "output_type": "stream",
          "name": "stdout",
          "text": [
            "Downloading data from https://storage.googleapis.com/tensorflow/tf-keras-datasets/train-labels-idx1-ubyte.gz\n",
            "29515/29515 [==============================] - 0s 1us/step\n",
            "Downloading data from https://storage.googleapis.com/tensorflow/tf-keras-datasets/train-images-idx3-ubyte.gz\n",
            "26421880/26421880 [==============================] - 2s 0us/step\n",
            "Downloading data from https://storage.googleapis.com/tensorflow/tf-keras-datasets/t10k-labels-idx1-ubyte.gz\n",
            "5148/5148 [==============================] - 0s 0us/step\n",
            "Downloading data from https://storage.googleapis.com/tensorflow/tf-keras-datasets/t10k-images-idx3-ubyte.gz\n",
            "4422102/4422102 [==============================] - 1s 0us/step\n"
          ]
        }
      ]
    },
    {
      "cell_type": "code",
      "source": [
        "(x_train, y_train), (x_test, y_test) = fashion_mnist\n",
        "x_train, x_test = x_train/255., x_test/255."
      ],
      "metadata": {
        "id": "y8Vnlz4_L92h"
      },
      "execution_count": 3,
      "outputs": []
    },
    {
      "cell_type": "code",
      "source": [
        "x_valid, y_valid = x_train[-5000:], y_train[-5000:] # last 5000 data items\n",
        "x_train, y_train = x_train[:-5000], y_train[:-5000] # all except last 5000 data items i.e. validation data"
      ],
      "metadata": {
        "id": "C-ILOB8eeE37"
      },
      "execution_count": 4,
      "outputs": []
    },
    {
      "cell_type": "code",
      "source": [
        "class_names = ['T-shirt/top', 'Trouser', 'Pullover', 'Dress', 'Coat', 'Sandal', 'Shirt', 'Sneaker', 'Bag', 'Ankle boot']"
      ],
      "metadata": {
        "id": "O5SBNWlJMVO5"
      },
      "execution_count": 5,
      "outputs": []
    },
    {
      "cell_type": "code",
      "source": [
        "(x_train.shape, x_test.shape)"
      ],
      "metadata": {
        "colab": {
          "base_uri": "https://localhost:8080/"
        },
        "id": "kuc6tOy0NyWv",
        "outputId": "ab4f56e2-1445-4e14-9017-0329b8877720"
      },
      "execution_count": 6,
      "outputs": [
        {
          "output_type": "execute_result",
          "data": {
            "text/plain": [
              "((55000, 28, 28), (10000, 28, 28))"
            ]
          },
          "metadata": {},
          "execution_count": 6
        }
      ]
    },
    {
      "cell_type": "markdown",
      "source": [
        "### sequential neural layers"
      ],
      "metadata": {
        "id": "2t-3Z-1emU8U"
      }
    },
    {
      "cell_type": "code",
      "source": [
        "model = tf.keras.Sequential()"
      ],
      "metadata": {
        "id": "D6xIPcd0O1y9"
      },
      "execution_count": 7,
      "outputs": []
    },
    {
      "cell_type": "code",
      "source": [
        "model.add(tf.keras.layers.Input(shape=[28,28]))"
      ],
      "metadata": {
        "id": "qgAWNzVAmX5J"
      },
      "execution_count": 8,
      "outputs": []
    },
    {
      "cell_type": "code",
      "source": [
        "model.add(tf.keras.layers.Flatten())"
      ],
      "metadata": {
        "id": "neBkJa74Re1N"
      },
      "execution_count": 9,
      "outputs": []
    },
    {
      "cell_type": "code",
      "source": [
        "model.add(tf.keras.layers.Dense(300, activation='relu'))"
      ],
      "metadata": {
        "id": "KGT-ZQFFRM3S"
      },
      "execution_count": 10,
      "outputs": []
    },
    {
      "cell_type": "code",
      "source": [
        "model.add(tf.keras.layers.Dense(300, activation='relu'))"
      ],
      "metadata": {
        "id": "LYloABrnRokT"
      },
      "execution_count": 11,
      "outputs": []
    },
    {
      "cell_type": "code",
      "source": [
        "model.add(tf.keras.layers.Dense(300, activation='softmax'))"
      ],
      "metadata": {
        "id": "BY9qlzUDRuAz"
      },
      "execution_count": 12,
      "outputs": []
    },
    {
      "cell_type": "markdown",
      "source": [
        "### model summary"
      ],
      "metadata": {
        "id": "M0tvSIdQmcXB"
      }
    },
    {
      "cell_type": "code",
      "source": [
        "model.summary()"
      ],
      "metadata": {
        "colab": {
          "base_uri": "https://localhost:8080/"
        },
        "id": "auHH0L6lRvsZ",
        "outputId": "72006990-860d-4490-e651-60795c7207a1"
      },
      "execution_count": 13,
      "outputs": [
        {
          "output_type": "stream",
          "name": "stdout",
          "text": [
            "Model: \"sequential\"\n",
            "_________________________________________________________________\n",
            " Layer (type)                Output Shape              Param #   \n",
            "=================================================================\n",
            " flatten (Flatten)           (None, 784)               0         \n",
            "                                                                 \n",
            " dense (Dense)               (None, 300)               235500    \n",
            "                                                                 \n",
            " dense_1 (Dense)             (None, 300)               90300     \n",
            "                                                                 \n",
            " dense_2 (Dense)             (None, 300)               90300     \n",
            "                                                                 \n",
            "=================================================================\n",
            "Total params: 416100 (1.59 MB)\n",
            "Trainable params: 416100 (1.59 MB)\n",
            "Non-trainable params: 0 (0.00 Byte)\n",
            "_________________________________________________________________\n"
          ]
        }
      ]
    },
    {
      "cell_type": "code",
      "source": [
        "model.layers"
      ],
      "metadata": {
        "id": "UfO2r1yYRzx7",
        "colab": {
          "base_uri": "https://localhost:8080/"
        },
        "outputId": "d61e77a6-276c-495d-ec4f-c2cab4cfef79"
      },
      "execution_count": 14,
      "outputs": [
        {
          "output_type": "execute_result",
          "data": {
            "text/plain": [
              "[<keras.src.layers.reshaping.flatten.Flatten at 0x7e0a6abbba90>,\n",
              " <keras.src.layers.core.dense.Dense at 0x7e0a6abfdfc0>,\n",
              " <keras.src.layers.core.dense.Dense at 0x7e0a6abff460>,\n",
              " <keras.src.layers.core.dense.Dense at 0x7e0a442a4a00>]"
            ]
          },
          "metadata": {},
          "execution_count": 14
        }
      ]
    },
    {
      "cell_type": "code",
      "source": [
        "nn_layer1 = model.layers[1]\n",
        "nn_layer1.name"
      ],
      "metadata": {
        "id": "cX9qQig8R813",
        "colab": {
          "base_uri": "https://localhost:8080/",
          "height": 36
        },
        "outputId": "ad2ae957-08f0-489b-c5d6-0aeb1a9ffe9f"
      },
      "execution_count": 15,
      "outputs": [
        {
          "output_type": "execute_result",
          "data": {
            "text/plain": [
              "'dense'"
            ],
            "application/vnd.google.colaboratory.intrinsic+json": {
              "type": "string"
            }
          },
          "metadata": {},
          "execution_count": 15
        }
      ]
    },
    {
      "cell_type": "code",
      "source": [
        "weights, biases = nn_layer1.get_weights()"
      ],
      "metadata": {
        "id": "49nBDQD8mvfs"
      },
      "execution_count": 16,
      "outputs": []
    },
    {
      "cell_type": "code",
      "source": [
        "(weights.shape, biases.shape)"
      ],
      "metadata": {
        "colab": {
          "base_uri": "https://localhost:8080/"
        },
        "id": "s4xV42exmxS1",
        "outputId": "5747a4a4-db29-4390-a1ba-ca4d9b7cf87d"
      },
      "execution_count": 17,
      "outputs": [
        {
          "output_type": "execute_result",
          "data": {
            "text/plain": [
              "((784, 300), (300,))"
            ]
          },
          "metadata": {},
          "execution_count": 17
        }
      ]
    },
    {
      "cell_type": "code",
      "source": [
        "weights"
      ],
      "metadata": {
        "colab": {
          "base_uri": "https://localhost:8080/"
        },
        "id": "F3YQ5xh0mzIX",
        "outputId": "79341f38-c7b6-4f53-8336-1332a95e7b4b"
      },
      "execution_count": 18,
      "outputs": [
        {
          "output_type": "execute_result",
          "data": {
            "text/plain": [
              "array([[-0.067813  , -0.00043784,  0.01224346, ..., -0.07431412,\n",
              "        -0.03310187,  0.02673813],\n",
              "       [-0.02602807, -0.00238498,  0.00865911, ...,  0.02535147,\n",
              "         0.01188291, -0.01599117],\n",
              "       [-0.05390926,  0.01170392, -0.04291784, ...,  0.02298464,\n",
              "        -0.01832285, -0.03459291],\n",
              "       ...,\n",
              "       [ 0.01787181, -0.06200707, -0.02520783, ...,  0.05287184,\n",
              "        -0.02930944, -0.03823274],\n",
              "       [ 0.02783172, -0.04760466, -0.04985461, ...,  0.06784916,\n",
              "        -0.05514904,  0.05479547],\n",
              "       [-0.02424383,  0.03220006, -0.03316853, ..., -0.03366957,\n",
              "        -0.04690653,  0.00433531]], dtype=float32)"
            ]
          },
          "metadata": {},
          "execution_count": 18
        }
      ]
    },
    {
      "cell_type": "markdown",
      "source": [
        "### model compilation"
      ],
      "metadata": {
        "id": "WmbjM-O9m8sh"
      }
    },
    {
      "cell_type": "code",
      "source": [
        "model.compile(optimizer='sgd',\n",
        "              loss='sparse_categorical_crossentropy',\n",
        "              metrics=['accuracy'])"
      ],
      "metadata": {
        "id": "0nYJoO9gm1RO"
      },
      "execution_count": 19,
      "outputs": []
    },
    {
      "cell_type": "markdown",
      "source": [
        "### model training and evaluation"
      ],
      "metadata": {
        "id": "V9cSLtivm_lV"
      }
    },
    {
      "cell_type": "code",
      "source": [
        "history = model.fit(x_train,\n",
        "                    y_train,\n",
        "                    epochs=20,\n",
        "                    validation_data=(x_valid, y_valid))"
      ],
      "metadata": {
        "colab": {
          "base_uri": "https://localhost:8080/"
        },
        "id": "URJMAtnkm3G6",
        "outputId": "302927c2-1da8-4351-ed88-9ff9b9033781"
      },
      "execution_count": 20,
      "outputs": [
        {
          "output_type": "stream",
          "name": "stdout",
          "text": [
            "Epoch 1/20\n",
            "1719/1719 [==============================] - 19s 6ms/step - loss: 0.8707 - accuracy: 0.7274 - val_loss: 0.5802 - val_accuracy: 0.7968\n",
            "Epoch 2/20\n",
            "1719/1719 [==============================] - 6s 4ms/step - loss: 0.5194 - accuracy: 0.8208 - val_loss: 0.4886 - val_accuracy: 0.8264\n",
            "Epoch 3/20\n",
            "1719/1719 [==============================] - 8s 5ms/step - loss: 0.4664 - accuracy: 0.8367 - val_loss: 0.4618 - val_accuracy: 0.8326\n",
            "Epoch 4/20\n",
            "1719/1719 [==============================] - 8s 5ms/step - loss: 0.4352 - accuracy: 0.8487 - val_loss: 0.4140 - val_accuracy: 0.8570\n",
            "Epoch 5/20\n",
            "1719/1719 [==============================] - 7s 4ms/step - loss: 0.4130 - accuracy: 0.8565 - val_loss: 0.4394 - val_accuracy: 0.8360\n",
            "Epoch 6/20\n",
            "1719/1719 [==============================] - 7s 4ms/step - loss: 0.3955 - accuracy: 0.8616 - val_loss: 0.3797 - val_accuracy: 0.8632\n",
            "Epoch 7/20\n",
            "1719/1719 [==============================] - 7s 4ms/step - loss: 0.3810 - accuracy: 0.8668 - val_loss: 0.3842 - val_accuracy: 0.8642\n",
            "Epoch 8/20\n",
            "1719/1719 [==============================] - 7s 4ms/step - loss: 0.3678 - accuracy: 0.8698 - val_loss: 0.3678 - val_accuracy: 0.8694\n",
            "Epoch 9/20\n",
            "1719/1719 [==============================] - 6s 4ms/step - loss: 0.3569 - accuracy: 0.8748 - val_loss: 0.3755 - val_accuracy: 0.8688\n",
            "Epoch 10/20\n",
            "1719/1719 [==============================] - 7s 4ms/step - loss: 0.3468 - accuracy: 0.8779 - val_loss: 0.3537 - val_accuracy: 0.8706\n",
            "Epoch 11/20\n",
            "1719/1719 [==============================] - 7s 4ms/step - loss: 0.3365 - accuracy: 0.8807 - val_loss: 0.3658 - val_accuracy: 0.8718\n",
            "Epoch 12/20\n",
            "1719/1719 [==============================] - 7s 4ms/step - loss: 0.3288 - accuracy: 0.8833 - val_loss: 0.3507 - val_accuracy: 0.8734\n",
            "Epoch 13/20\n",
            "1719/1719 [==============================] - 6s 4ms/step - loss: 0.3214 - accuracy: 0.8845 - val_loss: 0.3458 - val_accuracy: 0.8758\n",
            "Epoch 14/20\n",
            "1719/1719 [==============================] - 7s 4ms/step - loss: 0.3122 - accuracy: 0.8885 - val_loss: 0.3491 - val_accuracy: 0.8740\n",
            "Epoch 15/20\n",
            "1719/1719 [==============================] - 7s 4ms/step - loss: 0.3063 - accuracy: 0.8906 - val_loss: 0.3375 - val_accuracy: 0.8740\n",
            "Epoch 16/20\n",
            "1719/1719 [==============================] - 8s 5ms/step - loss: 0.2995 - accuracy: 0.8923 - val_loss: 0.3523 - val_accuracy: 0.8716\n",
            "Epoch 17/20\n",
            "1719/1719 [==============================] - 7s 4ms/step - loss: 0.2934 - accuracy: 0.8956 - val_loss: 0.3251 - val_accuracy: 0.8836\n",
            "Epoch 18/20\n",
            "1719/1719 [==============================] - 7s 4ms/step - loss: 0.2872 - accuracy: 0.8982 - val_loss: 0.3272 - val_accuracy: 0.8774\n",
            "Epoch 19/20\n",
            "1719/1719 [==============================] - 8s 4ms/step - loss: 0.2830 - accuracy: 0.8997 - val_loss: 0.3267 - val_accuracy: 0.8796\n",
            "Epoch 20/20\n",
            "1719/1719 [==============================] - 7s 4ms/step - loss: 0.2764 - accuracy: 0.9007 - val_loss: 0.3493 - val_accuracy: 0.8740\n"
          ]
        }
      ]
    },
    {
      "cell_type": "code",
      "source": [
        "history.history # loss and accuracy at each epoch in training"
      ],
      "metadata": {
        "colab": {
          "base_uri": "https://localhost:8080/"
        },
        "id": "6mhXG4q5L2Lv",
        "outputId": "61db79f6-e31f-40f2-a9b5-b55ebae6596d"
      },
      "execution_count": 21,
      "outputs": [
        {
          "output_type": "execute_result",
          "data": {
            "text/plain": [
              "{'loss': [0.8706626892089844,\n",
              "  0.5194495916366577,\n",
              "  0.46642154455184937,\n",
              "  0.4351871907711029,\n",
              "  0.412995845079422,\n",
              "  0.3954721987247467,\n",
              "  0.38096481561660767,\n",
              "  0.36778226494789124,\n",
              "  0.35686877369880676,\n",
              "  0.3467504382133484,\n",
              "  0.3365299105644226,\n",
              "  0.32883191108703613,\n",
              "  0.32139068841934204,\n",
              "  0.31222546100616455,\n",
              "  0.30628272891044617,\n",
              "  0.29952940344810486,\n",
              "  0.2934214770793915,\n",
              "  0.28720542788505554,\n",
              "  0.28297147154808044,\n",
              "  0.2763622999191284],\n",
              " 'accuracy': [0.727436363697052,\n",
              "  0.8208000063896179,\n",
              "  0.836654543876648,\n",
              "  0.8487091064453125,\n",
              "  0.8565272688865662,\n",
              "  0.8615818023681641,\n",
              "  0.8667818307876587,\n",
              "  0.8697817921638489,\n",
              "  0.8747818470001221,\n",
              "  0.8779454827308655,\n",
              "  0.8806545734405518,\n",
              "  0.8832908868789673,\n",
              "  0.8844545483589172,\n",
              "  0.8885454535484314,\n",
              "  0.8906182050704956,\n",
              "  0.8922727108001709,\n",
              "  0.895618200302124,\n",
              "  0.8982363343238831,\n",
              "  0.8997454643249512,\n",
              "  0.9006909132003784],\n",
              " 'val_loss': [0.5802275538444519,\n",
              "  0.488585501909256,\n",
              "  0.46180638670921326,\n",
              "  0.41398870944976807,\n",
              "  0.43944117426872253,\n",
              "  0.3797438144683838,\n",
              "  0.3842344880104065,\n",
              "  0.3678497076034546,\n",
              "  0.375537246465683,\n",
              "  0.3537020683288574,\n",
              "  0.3658102750778198,\n",
              "  0.35071641206741333,\n",
              "  0.3458162844181061,\n",
              "  0.34913185238838196,\n",
              "  0.33751580119132996,\n",
              "  0.35231053829193115,\n",
              "  0.32508838176727295,\n",
              "  0.32716992497444153,\n",
              "  0.326694130897522,\n",
              "  0.3493245542049408],\n",
              " 'val_accuracy': [0.7968000173568726,\n",
              "  0.8263999819755554,\n",
              "  0.8325999975204468,\n",
              "  0.8569999933242798,\n",
              "  0.8360000252723694,\n",
              "  0.8632000088691711,\n",
              "  0.8641999959945679,\n",
              "  0.8694000244140625,\n",
              "  0.8687999844551086,\n",
              "  0.8705999851226807,\n",
              "  0.8718000054359436,\n",
              "  0.8733999729156494,\n",
              "  0.8758000135421753,\n",
              "  0.8740000128746033,\n",
              "  0.8740000128746033,\n",
              "  0.8715999722480774,\n",
              "  0.8835999965667725,\n",
              "  0.8773999810218811,\n",
              "  0.8795999884605408,\n",
              "  0.8740000128746033]}"
            ]
          },
          "metadata": {},
          "execution_count": 21
        }
      ]
    },
    {
      "cell_type": "code",
      "source": [
        "pd.DataFrame(history.history).plot(figsize=(12,5),\n",
        "                                   xlim=[0, 29],\n",
        "                                   ylim=[0, 1],\n",
        "                                   grid=True,\n",
        "                                   xlabel=\"Epoch\",\n",
        "                                   style=[\"r--\", \"g--.\", \"r-\", \"g-\"])\n",
        "plt.legend(loc=\"upper right\")\n",
        "plt.show()"
      ],
      "metadata": {
        "colab": {
          "base_uri": "https://localhost:8080/",
          "height": 470
        },
        "id": "x27Sa9KycCPU",
        "outputId": "0cedf12d-a056-4a42-8f8d-98f4602a3050"
      },
      "execution_count": 22,
      "outputs": [
        {
          "output_type": "display_data",
          "data": {
            "text/plain": [
              "<Figure size 1200x500 with 1 Axes>"
            ],
            "image/png": "[encoded data removed]"
          },
          "metadata": {}
        }
      ]
    },
    {
      "cell_type": "markdown",
      "source": [
        "### model evaluation"
      ],
      "metadata": {
        "id": "TfWWqKDWqsjK"
      }
    },
    {
      "cell_type": "code",
      "source": [
        "model.evaluate(x_train, y_train)"
      ],
      "metadata": {
        "colab": {
          "base_uri": "https://localhost:8080/"
        },
        "id": "ruPNafAiovUO",
        "outputId": "5629d976-bed1-49d4-b787-e77ec1e17954"
      },
      "execution_count": 24,
      "outputs": [
        {
          "output_type": "stream",
          "name": "stdout",
          "text": [
            "1719/1719 [==============================] - 5s 3ms/step - loss: 0.2853 - accuracy: 0.8962\n"
          ]
        },
        {
          "output_type": "execute_result",
          "data": {
            "text/plain": [
              "[0.28532344102859497, 0.8962000012397766]"
            ]
          },
          "metadata": {},
          "execution_count": 24
        }
      ]
    },
    {
      "cell_type": "markdown",
      "source": [
        "### model testing"
      ],
      "metadata": {
        "id": "MigDvmPhQzdH"
      }
    },
    {
      "cell_type": "code",
      "source": [
        "y_predict_proba = model.predict(x_test)\n",
        "y_predict_proba.round(2)"
      ],
      "metadata": {
        "colab": {
          "base_uri": "https://localhost:8080/"
        },
        "id": "_iUyF2C-OdS-",
        "outputId": "93f9c939-af5a-4aba-fbb2-f2c44ef4d132"
      },
      "execution_count": 25,
      "outputs": [
        {
          "output_type": "stream",
          "name": "stdout",
          "text": [
            "313/313 [==============================] - 1s 2ms/step\n"
          ]
        },
        {
          "output_type": "execute_result",
          "data": {
            "text/plain": [
              "array([[0.  , 0.  , 0.  , ..., 0.  , 0.  , 0.  ],\n",
              "       [0.  , 0.  , 0.99, ..., 0.  , 0.  , 0.  ],\n",
              "       [0.  , 1.  , 0.  , ..., 0.  , 0.  , 0.  ],\n",
              "       ...,\n",
              "       [0.01, 0.  , 0.  , ..., 0.  , 0.  , 0.  ],\n",
              "       [0.  , 1.  , 0.  , ..., 0.  , 0.  , 0.  ],\n",
              "       [0.  , 0.  , 0.  , ..., 0.  , 0.  , 0.  ]], dtype=float32)"
            ]
          },
          "metadata": {},
          "execution_count": 25
        }
      ]
    },
    {
      "cell_type": "code",
      "source": [
        "y_pred = y_predict_proba.argmax(axis=-1)\n",
        "y_pred"
      ],
      "metadata": {
        "colab": {
          "base_uri": "https://localhost:8080/"
        },
        "id": "_7w0eAUHOtTI",
        "outputId": "3e8ecffb-ab82-42f3-98e4-dbad125312b4"
      },
      "execution_count": 26,
      "outputs": [
        {
          "output_type": "execute_result",
          "data": {
            "text/plain": [
              "array([9, 2, 1, ..., 8, 1, 5])"
            ]
          },
          "metadata": {},
          "execution_count": 26
        }
      ]
    },
    {
      "cell_type": "markdown",
      "source": [
        "### accuracy score"
      ],
      "metadata": {
        "id": "_cqFE_5mRYIf"
      }
    },
    {
      "cell_type": "code",
      "source": [
        "accuracy = accuracy_score(y_test, y_pred)\n",
        "accuracy"
      ],
      "metadata": {
        "colab": {
          "base_uri": "https://localhost:8080/"
        },
        "id": "G7gcuDl2RXia",
        "outputId": "faf1bf3f-8dc0-4540-9603-b0e7ab2f11f2"
      },
      "execution_count": 27,
      "outputs": [
        {
          "output_type": "execute_result",
          "data": {
            "text/plain": [
              "0.8649"
            ]
          },
          "metadata": {},
          "execution_count": 27
        }
      ]
    },
    {
      "cell_type": "code",
      "source": [
        "y_test_name = np.array(class_names)[y_test]\n",
        "y_pred_name = np.array(class_names)[y_pred]\n",
        "\n",
        "compare = np.array([(x, y) for x, y in zip(y_test_name, y_pred_name)])\n",
        "compare"
      ],
      "metadata": {
        "id": "wQtZ4O1BRgOG",
        "colab": {
          "base_uri": "https://localhost:8080/"
        },
        "outputId": "30651dcc-2291-4205-9ca3-9811207ab9c0"
      },
      "execution_count": 28,
      "outputs": [
        {
          "output_type": "execute_result",
          "data": {
            "text/plain": [
              "array([['Ankle boot', 'Ankle boot'],\n",
              "       ['Pullover', 'Pullover'],\n",
              "       ['Trouser', 'Trouser'],\n",
              "       ...,\n",
              "       ['Bag', 'Bag'],\n",
              "       ['Trouser', 'Trouser'],\n",
              "       ['Sandal', 'Sandal']], dtype='<U11')"
            ]
          },
          "metadata": {},
          "execution_count": 28
        }
      ]
    },
    {
      "cell_type": "code",
      "source": [
        "true_items = compare[compare[:,0] == compare[:,1]]\n",
        "print(len(true_items))\n",
        "true_items"
      ],
      "metadata": {
        "colab": {
          "base_uri": "https://localhost:8080/"
        },
        "id": "pzey4cvDT_Ie",
        "outputId": "3716cc92-f2e2-4eb9-8426-0d435427334d"
      },
      "execution_count": 29,
      "outputs": [
        {
          "output_type": "stream",
          "name": "stdout",
          "text": [
            "8649\n"
          ]
        },
        {
          "output_type": "execute_result",
          "data": {
            "text/plain": [
              "array([['Ankle boot', 'Ankle boot'],\n",
              "       ['Pullover', 'Pullover'],\n",
              "       ['Trouser', 'Trouser'],\n",
              "       ...,\n",
              "       ['Bag', 'Bag'],\n",
              "       ['Trouser', 'Trouser'],\n",
              "       ['Sandal', 'Sandal']], dtype='<U11')"
            ]
          },
          "metadata": {},
          "execution_count": 29
        }
      ]
    },
    {
      "cell_type": "code",
      "source": [
        "false_items = compare[compare[:,0] != compare[:,1]]\n",
        "print(len(false_items))\n",
        "false_items"
      ],
      "metadata": {
        "colab": {
          "base_uri": "https://localhost:8080/"
        },
        "id": "ovd55VoDVIL6",
        "outputId": "ae20a6e3-2ac3-4ed4-a7fc-0b53e58b789e"
      },
      "execution_count": 30,
      "outputs": [
        {
          "output_type": "stream",
          "name": "stdout",
          "text": [
            "1351\n"
          ]
        },
        {
          "output_type": "execute_result",
          "data": {
            "text/plain": [
              "array([['Sneaker', 'Sandal'],\n",
              "       ['Coat', 'Pullover'],\n",
              "       ['Ankle boot', 'Sandal'],\n",
              "       ...,\n",
              "       ['Shirt', 'T-shirt/top'],\n",
              "       ['Pullover', 'Trouser'],\n",
              "       ['Coat', 'Pullover']], dtype='<U11')"
            ]
          },
          "metadata": {},
          "execution_count": 30
        }
      ]
    }
  ]
}